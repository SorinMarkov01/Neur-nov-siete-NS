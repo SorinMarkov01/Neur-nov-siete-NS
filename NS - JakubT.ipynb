{
 "cells": [
  {
   "cell_type": "code",
   "execution_count": 2,
   "metadata": {},
   "outputs": [],
   "source": [
    "import math\n",
    "import pandas as pd\n",
    "import matplotlib.pyplot as plt\n",
    "import seaborn as sns\n",
    "import numpy as np\n",
    "import os\n",
    "import plotly.express as px"
   ]
  },
  {
   "cell_type": "code",
   "execution_count": 3,
   "metadata": {},
   "outputs": [
    {
     "data": {
      "text/html": [
       "<div>\n",
       "<style scoped>\n",
       "    .dataframe tbody tr th:only-of-type {\n",
       "        vertical-align: middle;\n",
       "    }\n",
       "\n",
       "    .dataframe tbody tr th {\n",
       "        vertical-align: top;\n",
       "    }\n",
       "\n",
       "    .dataframe thead th {\n",
       "        text-align: right;\n",
       "    }\n",
       "</style>\n",
       "<table border=\"1\" class=\"dataframe\">\n",
       "  <thead>\n",
       "    <tr style=\"text-align: right;\">\n",
       "      <th></th>\n",
       "      <th>rank</th>\n",
       "      <th>title</th>\n",
       "      <th>total ratings</th>\n",
       "      <th>installs</th>\n",
       "      <th>average rating</th>\n",
       "      <th>growth (30 days)</th>\n",
       "      <th>growth (60 days)</th>\n",
       "      <th>price</th>\n",
       "      <th>category</th>\n",
       "      <th>5 star ratings</th>\n",
       "      <th>4 star ratings</th>\n",
       "      <th>3 star ratings</th>\n",
       "      <th>2 star ratings</th>\n",
       "      <th>1 star ratings</th>\n",
       "      <th>paid</th>\n",
       "    </tr>\n",
       "  </thead>\n",
       "  <tbody>\n",
       "    <tr>\n",
       "      <th>0</th>\n",
       "      <td>1</td>\n",
       "      <td>Garena Free Fire - The Cobra</td>\n",
       "      <td>80678661</td>\n",
       "      <td>500.0 M</td>\n",
       "      <td>4.33</td>\n",
       "      <td>2.9</td>\n",
       "      <td>7.9</td>\n",
       "      <td>0.0</td>\n",
       "      <td>GAME ACTION</td>\n",
       "      <td>61935712</td>\n",
       "      <td>4478738</td>\n",
       "      <td>2795172</td>\n",
       "      <td>1814999</td>\n",
       "      <td>9654037</td>\n",
       "      <td>False</td>\n",
       "    </tr>\n",
       "    <tr>\n",
       "      <th>1</th>\n",
       "      <td>2</td>\n",
       "      <td>PUBG MOBILE: Graffiti Prank</td>\n",
       "      <td>35971961</td>\n",
       "      <td>100.0 M</td>\n",
       "      <td>4.24</td>\n",
       "      <td>2.0</td>\n",
       "      <td>3.1</td>\n",
       "      <td>0.0</td>\n",
       "      <td>GAME ACTION</td>\n",
       "      <td>26670566</td>\n",
       "      <td>2109631</td>\n",
       "      <td>1352610</td>\n",
       "      <td>893674</td>\n",
       "      <td>4945478</td>\n",
       "      <td>False</td>\n",
       "    </tr>\n",
       "    <tr>\n",
       "      <th>2</th>\n",
       "      <td>3</td>\n",
       "      <td>Mobile Legends: Bang Bang</td>\n",
       "      <td>25836869</td>\n",
       "      <td>100.0 M</td>\n",
       "      <td>4.08</td>\n",
       "      <td>1.6</td>\n",
       "      <td>3.3</td>\n",
       "      <td>0.0</td>\n",
       "      <td>GAME ACTION</td>\n",
       "      <td>17850942</td>\n",
       "      <td>1796761</td>\n",
       "      <td>1066095</td>\n",
       "      <td>725429</td>\n",
       "      <td>4397640</td>\n",
       "      <td>False</td>\n",
       "    </tr>\n",
       "    <tr>\n",
       "      <th>3</th>\n",
       "      <td>4</td>\n",
       "      <td>Brawl Stars</td>\n",
       "      <td>17181659</td>\n",
       "      <td>100.0 M</td>\n",
       "      <td>4.27</td>\n",
       "      <td>4.1</td>\n",
       "      <td>6.6</td>\n",
       "      <td>0.0</td>\n",
       "      <td>GAME ACTION</td>\n",
       "      <td>12493668</td>\n",
       "      <td>1474319</td>\n",
       "      <td>741410</td>\n",
       "      <td>383478</td>\n",
       "      <td>2088781</td>\n",
       "      <td>False</td>\n",
       "    </tr>\n",
       "    <tr>\n",
       "      <th>4</th>\n",
       "      <td>5</td>\n",
       "      <td>Sniper 3D: Fun Free Online FPS Shooting Game</td>\n",
       "      <td>14237554</td>\n",
       "      <td>100.0 M</td>\n",
       "      <td>4.33</td>\n",
       "      <td>0.8</td>\n",
       "      <td>1.8</td>\n",
       "      <td>0.0</td>\n",
       "      <td>GAME ACTION</td>\n",
       "      <td>9657878</td>\n",
       "      <td>2124544</td>\n",
       "      <td>1034025</td>\n",
       "      <td>375159</td>\n",
       "      <td>1045945</td>\n",
       "      <td>False</td>\n",
       "    </tr>\n",
       "    <tr>\n",
       "      <th>5</th>\n",
       "      <td>6</td>\n",
       "      <td>Shadow Fight 2</td>\n",
       "      <td>14048931</td>\n",
       "      <td>100.0 M</td>\n",
       "      <td>4.57</td>\n",
       "      <td>0.6</td>\n",
       "      <td>1.5</td>\n",
       "      <td>0.0</td>\n",
       "      <td>GAME ACTION</td>\n",
       "      <td>11532143</td>\n",
       "      <td>961926</td>\n",
       "      <td>448184</td>\n",
       "      <td>217044</td>\n",
       "      <td>889631</td>\n",
       "      <td>False</td>\n",
       "    </tr>\n",
       "    <tr>\n",
       "      <th>6</th>\n",
       "      <td>7</td>\n",
       "      <td>Call of Duty®: Mobile - Day of Reckoning</td>\n",
       "      <td>13020115</td>\n",
       "      <td>100.0 M</td>\n",
       "      <td>4.47</td>\n",
       "      <td>2.8</td>\n",
       "      <td>5.1</td>\n",
       "      <td>0.0</td>\n",
       "      <td>GAME ACTION</td>\n",
       "      <td>10079925</td>\n",
       "      <td>1210326</td>\n",
       "      <td>488294</td>\n",
       "      <td>261610</td>\n",
       "      <td>979958</td>\n",
       "      <td>False</td>\n",
       "    </tr>\n",
       "    <tr>\n",
       "      <th>7</th>\n",
       "      <td>8</td>\n",
       "      <td>Among Us</td>\n",
       "      <td>11298789</td>\n",
       "      <td>100.0 M</td>\n",
       "      <td>3.65</td>\n",
       "      <td>6.3</td>\n",
       "      <td>12.3</td>\n",
       "      <td>0.0</td>\n",
       "      <td>GAME ACTION</td>\n",
       "      <td>6173970</td>\n",
       "      <td>1026476</td>\n",
       "      <td>770574</td>\n",
       "      <td>614021</td>\n",
       "      <td>2713745</td>\n",
       "      <td>False</td>\n",
       "    </tr>\n",
       "    <tr>\n",
       "      <th>8</th>\n",
       "      <td>9</td>\n",
       "      <td>Temple Run 2</td>\n",
       "      <td>9554877</td>\n",
       "      <td>500.0 M</td>\n",
       "      <td>4.21</td>\n",
       "      <td>0.3</td>\n",
       "      <td>0.6</td>\n",
       "      <td>0.0</td>\n",
       "      <td>GAME ACTION</td>\n",
       "      <td>6521348</td>\n",
       "      <td>996144</td>\n",
       "      <td>615544</td>\n",
       "      <td>343978</td>\n",
       "      <td>1077860</td>\n",
       "      <td>False</td>\n",
       "    </tr>\n",
       "    <tr>\n",
       "      <th>9</th>\n",
       "      <td>10</td>\n",
       "      <td>PUBG MOBILE LITE</td>\n",
       "      <td>7392911</td>\n",
       "      <td>100.0 M</td>\n",
       "      <td>4.16</td>\n",
       "      <td>1.3</td>\n",
       "      <td>2.9</td>\n",
       "      <td>0.0</td>\n",
       "      <td>GAME ACTION</td>\n",
       "      <td>5231571</td>\n",
       "      <td>494013</td>\n",
       "      <td>343880</td>\n",
       "      <td>232468</td>\n",
       "      <td>1090976</td>\n",
       "      <td>False</td>\n",
       "    </tr>\n",
       "    <tr>\n",
       "      <th>10</th>\n",
       "      <td>11</td>\n",
       "      <td>slither.io</td>\n",
       "      <td>6475640</td>\n",
       "      <td>100.0 M</td>\n",
       "      <td>4.07</td>\n",
       "      <td>0.4</td>\n",
       "      <td>1.0</td>\n",
       "      <td>0.0</td>\n",
       "      <td>GAME ACTION</td>\n",
       "      <td>4089508</td>\n",
       "      <td>765605</td>\n",
       "      <td>486813</td>\n",
       "      <td>250455</td>\n",
       "      <td>883255</td>\n",
       "      <td>False</td>\n",
       "    </tr>\n",
       "    <tr>\n",
       "      <th>11</th>\n",
       "      <td>12</td>\n",
       "      <td>Gangstar Vegas: World of Crime</td>\n",
       "      <td>6203689</td>\n",
       "      <td>100.0 M</td>\n",
       "      <td>4.30</td>\n",
       "      <td>0.5</td>\n",
       "      <td>1.1</td>\n",
       "      <td>0.0</td>\n",
       "      <td>GAME ACTION</td>\n",
       "      <td>4466149</td>\n",
       "      <td>597997</td>\n",
       "      <td>313912</td>\n",
       "      <td>165629</td>\n",
       "      <td>660000</td>\n",
       "      <td>False</td>\n",
       "    </tr>\n",
       "  </tbody>\n",
       "</table>\n",
       "</div>"
      ],
      "text/plain": [
       "    rank                                         title  total ratings  \\\n",
       "0      1                  Garena Free Fire - The Cobra       80678661   \n",
       "1      2                   PUBG MOBILE: Graffiti Prank       35971961   \n",
       "2      3                     Mobile Legends: Bang Bang       25836869   \n",
       "3      4                                   Brawl Stars       17181659   \n",
       "4      5  Sniper 3D: Fun Free Online FPS Shooting Game       14237554   \n",
       "5      6                                Shadow Fight 2       14048931   \n",
       "6      7      Call of Duty®: Mobile - Day of Reckoning       13020115   \n",
       "7      8                                      Among Us       11298789   \n",
       "8      9                                  Temple Run 2        9554877   \n",
       "9     10                              PUBG MOBILE LITE        7392911   \n",
       "10    11                                    slither.io        6475640   \n",
       "11    12                Gangstar Vegas: World of Crime        6203689   \n",
       "\n",
       "   installs  average rating  growth (30 days)  growth (60 days)  price  \\\n",
       "0   500.0 M            4.33               2.9               7.9    0.0   \n",
       "1   100.0 M            4.24               2.0               3.1    0.0   \n",
       "2   100.0 M            4.08               1.6               3.3    0.0   \n",
       "3   100.0 M            4.27               4.1               6.6    0.0   \n",
       "4   100.0 M            4.33               0.8               1.8    0.0   \n",
       "5   100.0 M            4.57               0.6               1.5    0.0   \n",
       "6   100.0 M            4.47               2.8               5.1    0.0   \n",
       "7   100.0 M            3.65               6.3              12.3    0.0   \n",
       "8   500.0 M            4.21               0.3               0.6    0.0   \n",
       "9   100.0 M            4.16               1.3               2.9    0.0   \n",
       "10  100.0 M            4.07               0.4               1.0    0.0   \n",
       "11  100.0 M            4.30               0.5               1.1    0.0   \n",
       "\n",
       "       category  5 star ratings  4 star ratings  3 star ratings  \\\n",
       "0   GAME ACTION        61935712         4478738         2795172   \n",
       "1   GAME ACTION        26670566         2109631         1352610   \n",
       "2   GAME ACTION        17850942         1796761         1066095   \n",
       "3   GAME ACTION        12493668         1474319          741410   \n",
       "4   GAME ACTION         9657878         2124544         1034025   \n",
       "5   GAME ACTION        11532143          961926          448184   \n",
       "6   GAME ACTION        10079925         1210326          488294   \n",
       "7   GAME ACTION         6173970         1026476          770574   \n",
       "8   GAME ACTION         6521348          996144          615544   \n",
       "9   GAME ACTION         5231571          494013          343880   \n",
       "10  GAME ACTION         4089508          765605          486813   \n",
       "11  GAME ACTION         4466149          597997          313912   \n",
       "\n",
       "    2 star ratings  1 star ratings   paid  \n",
       "0          1814999         9654037  False  \n",
       "1           893674         4945478  False  \n",
       "2           725429         4397640  False  \n",
       "3           383478         2088781  False  \n",
       "4           375159         1045945  False  \n",
       "5           217044          889631  False  \n",
       "6           261610          979958  False  \n",
       "7           614021         2713745  False  \n",
       "8           343978         1077860  False  \n",
       "9           232468         1090976  False  \n",
       "10          250455          883255  False  \n",
       "11          165629          660000  False  "
      ]
     },
     "execution_count": 3,
     "metadata": {},
     "output_type": "execute_result"
    }
   ],
   "source": [
    "df = pd.read_csv('android-games.csv')\n",
    "df.head(12)"
   ]
  },
  {
   "cell_type": "code",
   "execution_count": 4,
   "metadata": {},
   "outputs": [
    {
     "name": "stdout",
     "output_type": "stream",
     "text": [
      "<class 'pandas.core.frame.DataFrame'>\n",
      "RangeIndex: 1730 entries, 0 to 1729\n",
      "Data columns (total 15 columns):\n",
      " #   Column            Non-Null Count  Dtype  \n",
      "---  ------            --------------  -----  \n",
      " 0   rank              1730 non-null   int64  \n",
      " 1   title             1730 non-null   object \n",
      " 2   total ratings     1730 non-null   int64  \n",
      " 3   installs          1730 non-null   object \n",
      " 4   average rating    1730 non-null   float64\n",
      " 5   growth (30 days)  1730 non-null   float64\n",
      " 6   growth (60 days)  1730 non-null   float64\n",
      " 7   price             1730 non-null   float64\n",
      " 8   category          1730 non-null   object \n",
      " 9   5 star ratings    1730 non-null   int64  \n",
      " 10  4 star ratings    1730 non-null   int64  \n",
      " 11  3 star ratings    1730 non-null   int64  \n",
      " 12  2 star ratings    1730 non-null   int64  \n",
      " 13  1 star ratings    1730 non-null   int64  \n",
      " 14  paid              1730 non-null   bool   \n",
      "dtypes: bool(1), float64(4), int64(7), object(3)\n",
      "memory usage: 191.0+ KB\n"
     ]
    }
   ],
   "source": [
    "df.info()"
   ]
  },
  {
   "cell_type": "code",
   "execution_count": 5,
   "metadata": {},
   "outputs": [
    {
     "data": {
      "text/html": [
       "<div>\n",
       "<style scoped>\n",
       "    .dataframe tbody tr th:only-of-type {\n",
       "        vertical-align: middle;\n",
       "    }\n",
       "\n",
       "    .dataframe tbody tr th {\n",
       "        vertical-align: top;\n",
       "    }\n",
       "\n",
       "    .dataframe thead th {\n",
       "        text-align: right;\n",
       "    }\n",
       "</style>\n",
       "<table border=\"1\" class=\"dataframe\">\n",
       "  <thead>\n",
       "    <tr style=\"text-align: right;\">\n",
       "      <th></th>\n",
       "      <th>rank</th>\n",
       "      <th>total ratings</th>\n",
       "      <th>average rating</th>\n",
       "      <th>growth (30 days)</th>\n",
       "      <th>growth (60 days)</th>\n",
       "      <th>price</th>\n",
       "      <th>5 star ratings</th>\n",
       "      <th>4 star ratings</th>\n",
       "      <th>3 star ratings</th>\n",
       "      <th>2 star ratings</th>\n",
       "      <th>1 star ratings</th>\n",
       "    </tr>\n",
       "  </thead>\n",
       "  <tbody>\n",
       "    <tr>\n",
       "      <th>count</th>\n",
       "      <td>1730.000000</td>\n",
       "      <td>1.730000e+03</td>\n",
       "      <td>1730.000000</td>\n",
       "      <td>1730.000000</td>\n",
       "      <td>1730.000000</td>\n",
       "      <td>1730.000000</td>\n",
       "      <td>1.730000e+03</td>\n",
       "      <td>1.730000e+03</td>\n",
       "      <td>1.730000e+03</td>\n",
       "      <td>1.730000e+03</td>\n",
       "      <td>1.730000e+03</td>\n",
       "    </tr>\n",
       "    <tr>\n",
       "      <th>mean</th>\n",
       "      <td>50.475723</td>\n",
       "      <td>1.101182e+06</td>\n",
       "      <td>4.313410</td>\n",
       "      <td>193.167341</td>\n",
       "      <td>3.969249</td>\n",
       "      <td>0.012965</td>\n",
       "      <td>7.883837e+05</td>\n",
       "      <td>1.216466e+05</td>\n",
       "      <td>5.954986e+04</td>\n",
       "      <td>2.796247e+04</td>\n",
       "      <td>1.036364e+05</td>\n",
       "    </tr>\n",
       "    <tr>\n",
       "      <th>std</th>\n",
       "      <td>28.941630</td>\n",
       "      <td>3.311738e+06</td>\n",
       "      <td>0.253545</td>\n",
       "      <td>4775.617650</td>\n",
       "      <td>18.912904</td>\n",
       "      <td>0.243492</td>\n",
       "      <td>2.483061e+06</td>\n",
       "      <td>2.955701e+05</td>\n",
       "      <td>1.447400e+05</td>\n",
       "      <td>7.676625e+04</td>\n",
       "      <td>3.589869e+05</td>\n",
       "    </tr>\n",
       "    <tr>\n",
       "      <th>min</th>\n",
       "      <td>1.000000</td>\n",
       "      <td>3.823800e+04</td>\n",
       "      <td>3.090000</td>\n",
       "      <td>0.000000</td>\n",
       "      <td>0.000000</td>\n",
       "      <td>0.000000</td>\n",
       "      <td>2.189800e+04</td>\n",
       "      <td>2.441000e+03</td>\n",
       "      <td>7.070000e+02</td>\n",
       "      <td>2.880000e+02</td>\n",
       "      <td>5.270000e+02</td>\n",
       "    </tr>\n",
       "    <tr>\n",
       "      <th>25%</th>\n",
       "      <td>25.000000</td>\n",
       "      <td>1.879988e+05</td>\n",
       "      <td>4.180000</td>\n",
       "      <td>0.100000</td>\n",
       "      <td>0.300000</td>\n",
       "      <td>0.000000</td>\n",
       "      <td>1.358290e+05</td>\n",
       "      <td>2.180200e+04</td>\n",
       "      <td>1.027775e+04</td>\n",
       "      <td>4.529500e+03</td>\n",
       "      <td>1.356075e+04</td>\n",
       "    </tr>\n",
       "    <tr>\n",
       "      <th>50%</th>\n",
       "      <td>51.000000</td>\n",
       "      <td>4.576750e+05</td>\n",
       "      <td>4.330000</td>\n",
       "      <td>0.500000</td>\n",
       "      <td>1.000000</td>\n",
       "      <td>0.000000</td>\n",
       "      <td>3.109435e+05</td>\n",
       "      <td>5.464350e+04</td>\n",
       "      <td>2.665850e+04</td>\n",
       "      <td>1.133050e+04</td>\n",
       "      <td>3.569400e+04</td>\n",
       "    </tr>\n",
       "    <tr>\n",
       "      <th>75%</th>\n",
       "      <td>75.750000</td>\n",
       "      <td>9.443342e+05</td>\n",
       "      <td>4.490000</td>\n",
       "      <td>1.600000</td>\n",
       "      <td>3.300000</td>\n",
       "      <td>0.000000</td>\n",
       "      <td>6.511310e+05</td>\n",
       "      <td>1.095648e+05</td>\n",
       "      <td>5.581750e+04</td>\n",
       "      <td>2.526650e+04</td>\n",
       "      <td>8.632625e+04</td>\n",
       "    </tr>\n",
       "    <tr>\n",
       "      <th>max</th>\n",
       "      <td>100.000000</td>\n",
       "      <td>8.067866e+07</td>\n",
       "      <td>4.910000</td>\n",
       "      <td>140394.400000</td>\n",
       "      <td>605.100000</td>\n",
       "      <td>7.490000</td>\n",
       "      <td>6.193571e+07</td>\n",
       "      <td>5.397273e+06</td>\n",
       "      <td>2.795172e+06</td>\n",
       "      <td>1.814999e+06</td>\n",
       "      <td>9.654037e+06</td>\n",
       "    </tr>\n",
       "  </tbody>\n",
       "</table>\n",
       "</div>"
      ],
      "text/plain": [
       "              rank  total ratings  average rating  growth (30 days)  \\\n",
       "count  1730.000000   1.730000e+03     1730.000000       1730.000000   \n",
       "mean     50.475723   1.101182e+06        4.313410        193.167341   \n",
       "std      28.941630   3.311738e+06        0.253545       4775.617650   \n",
       "min       1.000000   3.823800e+04        3.090000          0.000000   \n",
       "25%      25.000000   1.879988e+05        4.180000          0.100000   \n",
       "50%      51.000000   4.576750e+05        4.330000          0.500000   \n",
       "75%      75.750000   9.443342e+05        4.490000          1.600000   \n",
       "max     100.000000   8.067866e+07        4.910000     140394.400000   \n",
       "\n",
       "       growth (60 days)        price  5 star ratings  4 star ratings  \\\n",
       "count       1730.000000  1730.000000    1.730000e+03    1.730000e+03   \n",
       "mean           3.969249     0.012965    7.883837e+05    1.216466e+05   \n",
       "std           18.912904     0.243492    2.483061e+06    2.955701e+05   \n",
       "min            0.000000     0.000000    2.189800e+04    2.441000e+03   \n",
       "25%            0.300000     0.000000    1.358290e+05    2.180200e+04   \n",
       "50%            1.000000     0.000000    3.109435e+05    5.464350e+04   \n",
       "75%            3.300000     0.000000    6.511310e+05    1.095648e+05   \n",
       "max          605.100000     7.490000    6.193571e+07    5.397273e+06   \n",
       "\n",
       "       3 star ratings  2 star ratings  1 star ratings  \n",
       "count    1.730000e+03    1.730000e+03    1.730000e+03  \n",
       "mean     5.954986e+04    2.796247e+04    1.036364e+05  \n",
       "std      1.447400e+05    7.676625e+04    3.589869e+05  \n",
       "min      7.070000e+02    2.880000e+02    5.270000e+02  \n",
       "25%      1.027775e+04    4.529500e+03    1.356075e+04  \n",
       "50%      2.665850e+04    1.133050e+04    3.569400e+04  \n",
       "75%      5.581750e+04    2.526650e+04    8.632625e+04  \n",
       "max      2.795172e+06    1.814999e+06    9.654037e+06  "
      ]
     },
     "execution_count": 5,
     "metadata": {},
     "output_type": "execute_result"
    }
   ],
   "source": [
    "df.describe()"
   ]
  },
  {
   "cell_type": "code",
   "execution_count": 6,
   "metadata": {},
   "outputs": [
    {
     "data": {
      "text/plain": [
       "rank                0\n",
       "title               0\n",
       "total ratings       0\n",
       "installs            0\n",
       "average rating      0\n",
       "growth (30 days)    0\n",
       "growth (60 days)    0\n",
       "price               0\n",
       "category            0\n",
       "5 star ratings      0\n",
       "4 star ratings      0\n",
       "3 star ratings      0\n",
       "2 star ratings      0\n",
       "1 star ratings      0\n",
       "paid                0\n",
       "dtype: int64"
      ]
     },
     "execution_count": 6,
     "metadata": {},
     "output_type": "execute_result"
    }
   ],
   "source": [
    "# skontrolujeme, či v dátovom rámci chýbajú nejaké údaje\n",
    "df.isnull().sum() "
   ]
  },
  {
   "cell_type": "code",
   "execution_count": 7,
   "metadata": {},
   "outputs": [
    {
     "data": {
      "image/png": "[encoded data removed]",
      "text/plain": [
       "<Figure size 1008x504 with 1 Axes>"
      ]
     },
     "metadata": {},
     "output_type": "display_data"
    }
   ],
   "source": [
    "plt.figure(figsize=(14, 7))\n",
    "labels=df['category'].value_counts().index\n",
    "plt.pie(df['category'].value_counts().values,labels=labels,\n",
    "        explode=[0.15, 0.12, 0.1, 0.08, 0.08, 0.08, 0.08, 0.08, 0.08, 0.08, 0.08, 0.08, 0.08, 0.08, 0.08, 0.08, 0.08],\n",
    "        autopct='%1.1f%%', startangle=90,\n",
    "        textprops={'color':\"w\"})\n",
    "plt.title('Category Pie Chart', color='White', fontsize=20,pad=40)\n",
    "plt.axis('equal')\n",
    "plt.show()"
   ]
  },
  {
   "cell_type": "code",
   "execution_count": 8,
   "metadata": {},
   "outputs": [],
   "source": [
    "def Paid(paid):\n",
    "    if paid  == 0 : return 'Free'\n",
    "    else: return 'Costs'\n",
    "df['paid'] = df.apply(lambda x: Paid(x[\"paid\"]), axis = 1)"
   ]
  },
  {
   "cell_type": "code",
   "execution_count": 9,
   "metadata": {},
   "outputs": [
    {
     "data": {
      "image/png": "[encoded data removed]",
      "text/plain": [
       "<Figure size 720x504 with 1 Axes>"
      ]
     },
     "metadata": {
      "needs_background": "dark"
     },
     "output_type": "display_data"
    }
   ],
   "source": [
    "plt.figure(figsize = (10, 7))\n",
    "ax = sns.countplot(x = \"paid\", data=df, color=('purple'))\n",
    "plt.yticks(color='white')\n",
    "plt.xticks(color='white')\n",
    "ax.xaxis.label.set_color('white')\n",
    "ax.yaxis.label.set_color('white')"
   ]
  },
  {
   "cell_type": "code",
   "execution_count": 10,
   "metadata": {},
   "outputs": [
    {
     "data": {
      "text/plain": [
       "Free     1723\n",
       "Costs       7\n",
       "Name: paid, dtype: int64"
      ]
     },
     "execution_count": 10,
     "metadata": {},
     "output_type": "execute_result"
    }
   ],
   "source": [
    "df['paid'].value_counts()"
   ]
  },
  {
   "cell_type": "code",
   "execution_count": 11,
   "metadata": {},
   "outputs": [
    {
     "data": {
      "text/plain": [
       "10.0 M      795\n",
       "50.0 M      266\n",
       "5.0 M       248\n",
       "100.0 M     203\n",
       "1.0 M       191\n",
       "500.0 k      13\n",
       "500.0 M      10\n",
       "100.0 k       2\n",
       "1000.0 M      2\n",
       "Name: installs, dtype: int64"
      ]
     },
     "execution_count": 11,
     "metadata": {},
     "output_type": "execute_result"
    }
   ],
   "source": [
    "df['installs'].value_counts()"
   ]
  },
  {
   "cell_type": "code",
   "execution_count": 12,
   "metadata": {},
   "outputs": [
    {
     "data": {
      "text/plain": [
       "10.0      795\n",
       "50.0      266\n",
       "5.0       248\n",
       "100.0     203\n",
       "1.0       191\n",
       "0.5        13\n",
       "500.0      10\n",
       "0.1         2\n",
       "1000.0      2\n",
       "Name: installs, dtype: int64"
      ]
     },
     "execution_count": 12,
     "metadata": {},
     "output_type": "execute_result"
    }
   ],
   "source": [
    "def get_installs(value):\n",
    "    if value[-1] == 'M':\n",
    "        return float(value[:-2])\n",
    "    elif value[-1] == 'k':\n",
    "        return (float(value[:-2]) / 1000)\n",
    "    \n",
    "df['installs'] = df['installs'].apply(get_installs)\n",
    "df['installs'].value_counts()"
   ]
  },
  {
   "cell_type": "code",
   "execution_count": 13,
   "metadata": {},
   "outputs": [
    {
     "data": {
      "text/html": [
       "<div>\n",
       "<style scoped>\n",
       "    .dataframe tbody tr th:only-of-type {\n",
       "        vertical-align: middle;\n",
       "    }\n",
       "\n",
       "    .dataframe tbody tr th {\n",
       "        vertical-align: top;\n",
       "    }\n",
       "\n",
       "    .dataframe thead th {\n",
       "        text-align: right;\n",
       "    }\n",
       "</style>\n",
       "<table border=\"1\" class=\"dataframe\">\n",
       "  <thead>\n",
       "    <tr style=\"text-align: right;\">\n",
       "      <th></th>\n",
       "      <th>installs</th>\n",
       "    </tr>\n",
       "    <tr>\n",
       "      <th>category</th>\n",
       "      <th></th>\n",
       "    </tr>\n",
       "  </thead>\n",
       "  <tbody>\n",
       "    <tr>\n",
       "      <th>GAME ARCADE</th>\n",
       "      <td>6931.0</td>\n",
       "    </tr>\n",
       "    <tr>\n",
       "      <th>GAME CASUAL</th>\n",
       "      <td>6847.0</td>\n",
       "    </tr>\n",
       "    <tr>\n",
       "      <th>GAME ACTION</th>\n",
       "      <td>6650.0</td>\n",
       "    </tr>\n",
       "    <tr>\n",
       "      <th>GAME RACING</th>\n",
       "      <td>4640.0</td>\n",
       "    </tr>\n",
       "    <tr>\n",
       "      <th>GAME PUZZLE</th>\n",
       "      <td>3631.0</td>\n",
       "    </tr>\n",
       "    <tr>\n",
       "      <th>GAME SPORTS</th>\n",
       "      <td>3491.0</td>\n",
       "    </tr>\n",
       "    <tr>\n",
       "      <th>GAME SIMULATION</th>\n",
       "      <td>2871.0</td>\n",
       "    </tr>\n",
       "    <tr>\n",
       "      <th>GAME STRATEGY</th>\n",
       "      <td>2392.0</td>\n",
       "    </tr>\n",
       "    <tr>\n",
       "      <th>GAME BOARD</th>\n",
       "      <td>2038.0</td>\n",
       "    </tr>\n",
       "    <tr>\n",
       "      <th>GAME ADVENTURE</th>\n",
       "      <td>1888.0</td>\n",
       "    </tr>\n",
       "    <tr>\n",
       "      <th>GAME EDUCATIONAL</th>\n",
       "      <td>1595.5</td>\n",
       "    </tr>\n",
       "    <tr>\n",
       "      <th>GAME ROLE PLAYING</th>\n",
       "      <td>1449.0</td>\n",
       "    </tr>\n",
       "    <tr>\n",
       "      <th>GAME CARD</th>\n",
       "      <td>1401.0</td>\n",
       "    </tr>\n",
       "    <tr>\n",
       "      <th>GAME WORD</th>\n",
       "      <td>1385.0</td>\n",
       "    </tr>\n",
       "    <tr>\n",
       "      <th>GAME MUSIC</th>\n",
       "      <td>1285.6</td>\n",
       "    </tr>\n",
       "    <tr>\n",
       "      <th>GAME CASINO</th>\n",
       "      <td>788.5</td>\n",
       "    </tr>\n",
       "    <tr>\n",
       "      <th>GAME TRIVIA</th>\n",
       "      <td>704.1</td>\n",
       "    </tr>\n",
       "  </tbody>\n",
       "</table>\n",
       "</div>"
      ],
      "text/plain": [
       "                   installs\n",
       "category                   \n",
       "GAME ARCADE          6931.0\n",
       "GAME CASUAL          6847.0\n",
       "GAME ACTION          6650.0\n",
       "GAME RACING          4640.0\n",
       "GAME PUZZLE          3631.0\n",
       "GAME SPORTS          3491.0\n",
       "GAME SIMULATION      2871.0\n",
       "GAME STRATEGY        2392.0\n",
       "GAME BOARD           2038.0\n",
       "GAME ADVENTURE       1888.0\n",
       "GAME EDUCATIONAL     1595.5\n",
       "GAME ROLE PLAYING    1449.0\n",
       "GAME CARD            1401.0\n",
       "GAME WORD            1385.0\n",
       "GAME MUSIC           1285.6\n",
       "GAME CASINO           788.5\n",
       "GAME TRIVIA           704.1"
      ]
     },
     "execution_count": 13,
     "metadata": {},
     "output_type": "execute_result"
    },
    {
     "data": {
      "image/png": "[encoded data removed]",
      "text/plain": [
       "<Figure size 864x576 with 1 Axes>"
      ]
     },
     "metadata": {
      "needs_background": "dark"
     },
     "output_type": "display_data"
    }
   ],
   "source": [
    "total_installs = df.groupby(['category']).sum()[['installs']]\\\n",
    ".sort_values(by='installs', ascending=False)\n",
    "\n",
    "fig, ax = plt.subplots(figsize=(12,8))\n",
    "sns.lineplot(x='category', y='installs', color='purple', data=total_installs)\n",
    "plt.yticks(color='white')\n",
    "plt.xticks(rotation=-30, color='white');\n",
    "ax.xaxis.label.set_color('white')\n",
    "ax.yaxis.label.set_color('white')\n",
    "\n",
    "total_installs"
   ]
  },
  {
   "cell_type": "code",
   "execution_count": 14,
   "metadata": {},
   "outputs": [
    {
     "data": {
      "text/html": [
       "<div>\n",
       "<style scoped>\n",
       "    .dataframe tbody tr th:only-of-type {\n",
       "        vertical-align: middle;\n",
       "    }\n",
       "\n",
       "    .dataframe tbody tr th {\n",
       "        vertical-align: top;\n",
       "    }\n",
       "\n",
       "    .dataframe thead th {\n",
       "        text-align: right;\n",
       "    }\n",
       "</style>\n",
       "<table border=\"1\" class=\"dataframe\">\n",
       "  <thead>\n",
       "    <tr style=\"text-align: right;\">\n",
       "      <th></th>\n",
       "      <th>5 star ratings</th>\n",
       "      <th>4 star ratings</th>\n",
       "      <th>3 star ratings</th>\n",
       "      <th>2 star ratings</th>\n",
       "      <th>1 star ratings</th>\n",
       "      <th>installs</th>\n",
       "    </tr>\n",
       "    <tr>\n",
       "      <th>category</th>\n",
       "      <th></th>\n",
       "      <th></th>\n",
       "      <th></th>\n",
       "      <th></th>\n",
       "      <th></th>\n",
       "      <th></th>\n",
       "    </tr>\n",
       "  </thead>\n",
       "  <tbody>\n",
       "    <tr>\n",
       "      <th>GAME CASINO</th>\n",
       "      <td>0.740402</td>\n",
       "      <td>0.111406</td>\n",
       "      <td>0.050221</td>\n",
       "      <td>0.020915</td>\n",
       "      <td>0.077056</td>\n",
       "      <td>788.5</td>\n",
       "    </tr>\n",
       "    <tr>\n",
       "      <th>GAME CASUAL</th>\n",
       "      <td>0.725871</td>\n",
       "      <td>0.115073</td>\n",
       "      <td>0.053982</td>\n",
       "      <td>0.023951</td>\n",
       "      <td>0.081123</td>\n",
       "      <td>6847.0</td>\n",
       "    </tr>\n",
       "    <tr>\n",
       "      <th>GAME ARCADE</th>\n",
       "      <td>0.722223</td>\n",
       "      <td>0.105012</td>\n",
       "      <td>0.056522</td>\n",
       "      <td>0.026644</td>\n",
       "      <td>0.089599</td>\n",
       "      <td>6931.0</td>\n",
       "    </tr>\n",
       "    <tr>\n",
       "      <th>GAME PUZZLE</th>\n",
       "      <td>0.719794</td>\n",
       "      <td>0.130283</td>\n",
       "      <td>0.059329</td>\n",
       "      <td>0.023932</td>\n",
       "      <td>0.066661</td>\n",
       "      <td>3631.0</td>\n",
       "    </tr>\n",
       "    <tr>\n",
       "      <th>GAME ACTION</th>\n",
       "      <td>0.719571</td>\n",
       "      <td>0.086885</td>\n",
       "      <td>0.047999</td>\n",
       "      <td>0.026561</td>\n",
       "      <td>0.118984</td>\n",
       "      <td>6650.0</td>\n",
       "    </tr>\n",
       "    <tr>\n",
       "      <th>GAME WORD</th>\n",
       "      <td>0.719357</td>\n",
       "      <td>0.149105</td>\n",
       "      <td>0.057365</td>\n",
       "      <td>0.021055</td>\n",
       "      <td>0.053118</td>\n",
       "      <td>1385.0</td>\n",
       "    </tr>\n",
       "    <tr>\n",
       "      <th>GAME RACING</th>\n",
       "      <td>0.719216</td>\n",
       "      <td>0.102845</td>\n",
       "      <td>0.055118</td>\n",
       "      <td>0.027209</td>\n",
       "      <td>0.095614</td>\n",
       "      <td>4640.0</td>\n",
       "    </tr>\n",
       "    <tr>\n",
       "      <th>GAME BOARD</th>\n",
       "      <td>0.719082</td>\n",
       "      <td>0.109629</td>\n",
       "      <td>0.049232</td>\n",
       "      <td>0.023135</td>\n",
       "      <td>0.098923</td>\n",
       "      <td>2038.0</td>\n",
       "    </tr>\n",
       "    <tr>\n",
       "      <th>GAME STRATEGY</th>\n",
       "      <td>0.716916</td>\n",
       "      <td>0.114891</td>\n",
       "      <td>0.052746</td>\n",
       "      <td>0.022715</td>\n",
       "      <td>0.092733</td>\n",
       "      <td>2392.0</td>\n",
       "    </tr>\n",
       "    <tr>\n",
       "      <th>GAME CARD</th>\n",
       "      <td>0.711914</td>\n",
       "      <td>0.139943</td>\n",
       "      <td>0.050377</td>\n",
       "      <td>0.021097</td>\n",
       "      <td>0.076670</td>\n",
       "      <td>1401.0</td>\n",
       "    </tr>\n",
       "    <tr>\n",
       "      <th>GAME EDUCATIONAL</th>\n",
       "      <td>0.709128</td>\n",
       "      <td>0.094225</td>\n",
       "      <td>0.055235</td>\n",
       "      <td>0.033153</td>\n",
       "      <td>0.108258</td>\n",
       "      <td>1595.5</td>\n",
       "    </tr>\n",
       "    <tr>\n",
       "      <th>GAME SIMULATION</th>\n",
       "      <td>0.705138</td>\n",
       "      <td>0.125516</td>\n",
       "      <td>0.060291</td>\n",
       "      <td>0.026927</td>\n",
       "      <td>0.082127</td>\n",
       "      <td>2871.0</td>\n",
       "    </tr>\n",
       "    <tr>\n",
       "      <th>GAME ADVENTURE</th>\n",
       "      <td>0.705028</td>\n",
       "      <td>0.112494</td>\n",
       "      <td>0.056175</td>\n",
       "      <td>0.026802</td>\n",
       "      <td>0.099501</td>\n",
       "      <td>1888.0</td>\n",
       "    </tr>\n",
       "    <tr>\n",
       "      <th>GAME TRIVIA</th>\n",
       "      <td>0.697473</td>\n",
       "      <td>0.145147</td>\n",
       "      <td>0.059307</td>\n",
       "      <td>0.024245</td>\n",
       "      <td>0.073828</td>\n",
       "      <td>704.1</td>\n",
       "    </tr>\n",
       "    <tr>\n",
       "      <th>GAME SPORTS</th>\n",
       "      <td>0.696873</td>\n",
       "      <td>0.123164</td>\n",
       "      <td>0.059575</td>\n",
       "      <td>0.026169</td>\n",
       "      <td>0.094219</td>\n",
       "      <td>3491.0</td>\n",
       "    </tr>\n",
       "    <tr>\n",
       "      <th>GAME ROLE PLAYING</th>\n",
       "      <td>0.696614</td>\n",
       "      <td>0.123620</td>\n",
       "      <td>0.056171</td>\n",
       "      <td>0.026007</td>\n",
       "      <td>0.097588</td>\n",
       "      <td>1449.0</td>\n",
       "    </tr>\n",
       "    <tr>\n",
       "      <th>GAME MUSIC</th>\n",
       "      <td>0.689461</td>\n",
       "      <td>0.102470</td>\n",
       "      <td>0.061391</td>\n",
       "      <td>0.032589</td>\n",
       "      <td>0.114090</td>\n",
       "      <td>1285.6</td>\n",
       "    </tr>\n",
       "  </tbody>\n",
       "</table>\n",
       "</div>"
      ],
      "text/plain": [
       "                   5 star ratings  4 star ratings  3 star ratings  \\\n",
       "category                                                            \n",
       "GAME CASINO              0.740402        0.111406        0.050221   \n",
       "GAME CASUAL              0.725871        0.115073        0.053982   \n",
       "GAME ARCADE              0.722223        0.105012        0.056522   \n",
       "GAME PUZZLE              0.719794        0.130283        0.059329   \n",
       "GAME ACTION              0.719571        0.086885        0.047999   \n",
       "GAME WORD                0.719357        0.149105        0.057365   \n",
       "GAME RACING              0.719216        0.102845        0.055118   \n",
       "GAME BOARD               0.719082        0.109629        0.049232   \n",
       "GAME STRATEGY            0.716916        0.114891        0.052746   \n",
       "GAME CARD                0.711914        0.139943        0.050377   \n",
       "GAME EDUCATIONAL         0.709128        0.094225        0.055235   \n",
       "GAME SIMULATION          0.705138        0.125516        0.060291   \n",
       "GAME ADVENTURE           0.705028        0.112494        0.056175   \n",
       "GAME TRIVIA              0.697473        0.145147        0.059307   \n",
       "GAME SPORTS              0.696873        0.123164        0.059575   \n",
       "GAME ROLE PLAYING        0.696614        0.123620        0.056171   \n",
       "GAME MUSIC               0.689461        0.102470        0.061391   \n",
       "\n",
       "                   2 star ratings  1 star ratings  installs  \n",
       "category                                                     \n",
       "GAME CASINO              0.020915        0.077056     788.5  \n",
       "GAME CASUAL              0.023951        0.081123    6847.0  \n",
       "GAME ARCADE              0.026644        0.089599    6931.0  \n",
       "GAME PUZZLE              0.023932        0.066661    3631.0  \n",
       "GAME ACTION              0.026561        0.118984    6650.0  \n",
       "GAME WORD                0.021055        0.053118    1385.0  \n",
       "GAME RACING              0.027209        0.095614    4640.0  \n",
       "GAME BOARD               0.023135        0.098923    2038.0  \n",
       "GAME STRATEGY            0.022715        0.092733    2392.0  \n",
       "GAME CARD                0.021097        0.076670    1401.0  \n",
       "GAME EDUCATIONAL         0.033153        0.108258    1595.5  \n",
       "GAME SIMULATION          0.026927        0.082127    2871.0  \n",
       "GAME ADVENTURE           0.026802        0.099501    1888.0  \n",
       "GAME TRIVIA              0.024245        0.073828     704.1  \n",
       "GAME SPORTS              0.026169        0.094219    3491.0  \n",
       "GAME ROLE PLAYING        0.026007        0.097588    1449.0  \n",
       "GAME MUSIC               0.032589        0.114090    1285.6  "
      ]
     },
     "execution_count": 14,
     "metadata": {},
     "output_type": "execute_result"
    }
   ],
   "source": [
    "rating_columns = ['5 star ratings', '4 star ratings', '3 star ratings',\n",
    "                  '2 star ratings', '1 star ratings']\n",
    "\n",
    "rating_perc = df.groupby('category')[rating_columns].sum()\\\n",
    ".apply(lambda x: x/x.sum(), axis=1)\\\n",
    ".sort_values(by='5 star ratings', ascending=False)\n",
    "\n",
    "rating_and_install = rating_perc.merge(total_installs, left_index=True, right_index=True)\n",
    "rating_and_install"
   ]
  },
  {
   "cell_type": "code",
   "execution_count": 15,
   "metadata": {},
   "outputs": [
    {
     "data": {
      "image/png": "[encoded data removed]",
      "text/plain": [
       "<Figure size 1008x432 with 1 Axes>"
      ]
     },
     "metadata": {
      "needs_background": "dark"
     },
     "output_type": "display_data"
    }
   ],
   "source": [
    "fig, ax = plt.subplots(figsize=(14,6))\n",
    "\n",
    "avg_rating = df.groupby('category')['average rating'].mean().sort_values()\n",
    "avg_rating.plot(color='purple')\n",
    "plt.xticks(ticks=np.arange(17), labels=list(avg_rating.index), color='white', rotation=-30)\n",
    "plt.yticks(color='white')\n",
    "plt.xlabel('Game Categories', color='white')\n",
    "plt.ylabel('Average Ratings', color='white');"
   ]
  },
  {
   "cell_type": "code",
   "execution_count": 16,
   "metadata": {},
   "outputs": [
    {
     "data": {
      "image/png": "[encoded data removed]",
      "text/plain": [
       "<Figure size 432x288 with 1 Axes>"
      ]
     },
     "metadata": {
      "needs_background": "dark"
     },
     "output_type": "display_data"
    }
   ],
   "source": [
    "action_ratings = df[df['category'] == 'GAME ACTION']\n",
    "\n",
    "sns.histplot(x='average rating', color='purple', data=action_ratings, bins=30);\n",
    "plt.xticks(color='white')\n",
    "plt.yticks(color='white')\n",
    "plt.xlabel('Average rating', color='white')\n",
    "plt.ylabel('Count', color='white');"
   ]
  },
  {
   "cell_type": "code",
   "execution_count": 17,
   "metadata": {},
   "outputs": [
    {
     "data": {
      "text/html": [
       "<div>\n",
       "<style scoped>\n",
       "    .dataframe tbody tr th:only-of-type {\n",
       "        vertical-align: middle;\n",
       "    }\n",
       "\n",
       "    .dataframe tbody tr th {\n",
       "        vertical-align: top;\n",
       "    }\n",
       "\n",
       "    .dataframe thead th {\n",
       "        text-align: right;\n",
       "    }\n",
       "</style>\n",
       "<table border=\"1\" class=\"dataframe\">\n",
       "  <thead>\n",
       "    <tr style=\"text-align: right;\">\n",
       "      <th></th>\n",
       "      <th>growth (60 days)</th>\n",
       "      <th>growth (30 days)</th>\n",
       "    </tr>\n",
       "    <tr>\n",
       "      <th>category</th>\n",
       "      <th></th>\n",
       "      <th></th>\n",
       "    </tr>\n",
       "  </thead>\n",
       "  <tbody>\n",
       "    <tr>\n",
       "      <th>GAME ACTION</th>\n",
       "      <td>2.569000</td>\n",
       "      <td>1452.539000</td>\n",
       "    </tr>\n",
       "    <tr>\n",
       "      <th>GAME WORD</th>\n",
       "      <td>2.249057</td>\n",
       "      <td>1325.504717</td>\n",
       "    </tr>\n",
       "    <tr>\n",
       "      <th>GAME BOARD</th>\n",
       "      <td>4.501000</td>\n",
       "      <td>157.328000</td>\n",
       "    </tr>\n",
       "    <tr>\n",
       "      <th>GAME EDUCATIONAL</th>\n",
       "      <td>13.636000</td>\n",
       "      <td>99.569000</td>\n",
       "    </tr>\n",
       "    <tr>\n",
       "      <th>GAME RACING</th>\n",
       "      <td>1.961000</td>\n",
       "      <td>58.092000</td>\n",
       "    </tr>\n",
       "    <tr>\n",
       "      <th>GAME TRIVIA</th>\n",
       "      <td>6.443000</td>\n",
       "      <td>49.279000</td>\n",
       "    </tr>\n",
       "    <tr>\n",
       "      <th>GAME ADVENTURE</th>\n",
       "      <td>4.305000</td>\n",
       "      <td>30.868000</td>\n",
       "    </tr>\n",
       "    <tr>\n",
       "      <th>GAME STRATEGY</th>\n",
       "      <td>2.194000</td>\n",
       "      <td>26.820000</td>\n",
       "    </tr>\n",
       "    <tr>\n",
       "      <th>GAME ARCADE</th>\n",
       "      <td>3.091000</td>\n",
       "      <td>23.242000</td>\n",
       "    </tr>\n",
       "    <tr>\n",
       "      <th>GAME CASUAL</th>\n",
       "      <td>2.099020</td>\n",
       "      <td>19.771569</td>\n",
       "    </tr>\n",
       "    <tr>\n",
       "      <th>GAME SIMULATION</th>\n",
       "      <td>3.410000</td>\n",
       "      <td>6.954000</td>\n",
       "    </tr>\n",
       "    <tr>\n",
       "      <th>GAME MUSIC</th>\n",
       "      <td>7.006000</td>\n",
       "      <td>2.477000</td>\n",
       "    </tr>\n",
       "    <tr>\n",
       "      <th>GAME PUZZLE</th>\n",
       "      <td>2.153000</td>\n",
       "      <td>2.232000</td>\n",
       "    </tr>\n",
       "    <tr>\n",
       "      <th>GAME CASINO</th>\n",
       "      <td>3.352000</td>\n",
       "      <td>2.226000</td>\n",
       "    </tr>\n",
       "    <tr>\n",
       "      <th>GAME CARD</th>\n",
       "      <td>2.863934</td>\n",
       "      <td>2.028689</td>\n",
       "    </tr>\n",
       "    <tr>\n",
       "      <th>GAME SPORTS</th>\n",
       "      <td>3.187000</td>\n",
       "      <td>1.306000</td>\n",
       "    </tr>\n",
       "    <tr>\n",
       "      <th>GAME ROLE PLAYING</th>\n",
       "      <td>2.841000</td>\n",
       "      <td>1.186000</td>\n",
       "    </tr>\n",
       "  </tbody>\n",
       "</table>\n",
       "</div>"
      ],
      "text/plain": [
       "                   growth (60 days)  growth (30 days)\n",
       "category                                             \n",
       "GAME ACTION                2.569000       1452.539000\n",
       "GAME WORD                  2.249057       1325.504717\n",
       "GAME BOARD                 4.501000        157.328000\n",
       "GAME EDUCATIONAL          13.636000         99.569000\n",
       "GAME RACING                1.961000         58.092000\n",
       "GAME TRIVIA                6.443000         49.279000\n",
       "GAME ADVENTURE             4.305000         30.868000\n",
       "GAME STRATEGY              2.194000         26.820000\n",
       "GAME ARCADE                3.091000         23.242000\n",
       "GAME CASUAL                2.099020         19.771569\n",
       "GAME SIMULATION            3.410000          6.954000\n",
       "GAME MUSIC                 7.006000          2.477000\n",
       "GAME PUZZLE                2.153000          2.232000\n",
       "GAME CASINO                3.352000          2.226000\n",
       "GAME CARD                  2.863934          2.028689\n",
       "GAME SPORTS                3.187000          1.306000\n",
       "GAME ROLE PLAYING          2.841000          1.186000"
      ]
     },
     "execution_count": 17,
     "metadata": {},
     "output_type": "execute_result"
    }
   ],
   "source": [
    "growth_subset = df.groupby('category')[['growth (60 days)', 'growth (30 days)']].mean()\\\n",
    ".sort_values(by='growth (30 days)', ascending=False)\n",
    "\n",
    "growth_subset"
   ]
  },
  {
   "cell_type": "code",
   "execution_count": 18,
   "metadata": {},
   "outputs": [
    {
     "data": {
      "image/png": "[encoded data removed]",
      "text/plain": [
       "<Figure size 1080x576 with 2 Axes>"
      ]
     },
     "metadata": {
      "needs_background": "dark"
     },
     "output_type": "display_data"
    }
   ],
   "source": [
    "fig, (ax1, ax2) = plt.subplots(1,2, figsize=(15,8))\n",
    "\n",
    "ax1.plot(growth_subset['growth (30 days)'], color='purple')\n",
    "plt.xticks(rotation=70, color='white')\n",
    "plt.yticks(color='white')\n",
    "ax2.plot(growth_subset.sort_values(by='growth (60 days)', ascending=False)['growth (60 days)'], color='purple',)\n",
    "plt.sca(ax1)\n",
    "plt.yticks(color='white')\n",
    "plt.xticks(rotation=70, color='white');"
   ]
  },
  {
   "cell_type": "markdown",
   "metadata": {},
   "source": [
    "# Keras"
   ]
  },
  {
   "cell_type": "code",
   "execution_count": 45,
   "metadata": {},
   "outputs": [
    {
     "data": {
      "text/plain": [
       "array([[24.63290505, 14.74557524, 18.90570949, 23.28566648, 26.61145185],\n",
       "       [10.42651179,  6.72787657,  8.93625586, 11.28050243, 13.4914168 ],\n",
       "       [ 6.87356898,  5.6690399 ,  6.95616904,  9.08821542, 11.96490864],\n",
       "       [ 4.71541709,  4.57780898,  4.7122918 ,  4.6324828 ,  5.53145182],\n",
       "       [ 3.57303283,  6.7783462 ,  6.73453533,  4.52408353,  2.62567006],\n",
       "       [ 4.32807141,  2.84373253,  2.68582568,  2.46379372,  2.1901132 ],\n",
       "       [ 3.74305242,  3.68438529,  2.96302332,  3.04450317,  2.44180239],\n",
       "       [ 2.16955736,  3.06218718,  4.91384233,  7.63653299,  7.27286561],\n",
       "       [ 2.30949691,  2.95953549,  3.84243993,  4.11778497,  2.71459873],\n",
       "       [ 1.78991649,  1.26018842,  1.96498742,  2.66477345,  2.75114545]])"
      ]
     },
     "execution_count": 45,
     "metadata": {},
     "output_type": "execute_result"
    }
   ],
   "source": [
    "X = df.iloc[:,9:14].values #5 stĺpcov - 5,4,3,2,1 star rating\n",
    "y = df.iloc[:,8:9].values #celý stĺpec - category\n",
    "from sklearn.preprocessing import StandardScaler\n",
    "sc = StandardScaler() \n",
    "X = sc.fit_transform(X) #úprava údajov na štandardizovanú hodnotu.\n",
    "X[:10]"
   ]
  },
  {
   "cell_type": "code",
   "execution_count": 46,
   "metadata": {},
   "outputs": [
    {
     "data": {
      "text/plain": [
       "array([[1., 0., 0., 0., 0., 0., 0., 0., 0., 0., 0., 0., 0., 0., 0., 0.,\n",
       "        0.],\n",
       "       [1., 0., 0., 0., 0., 0., 0., 0., 0., 0., 0., 0., 0., 0., 0., 0.,\n",
       "        0.],\n",
       "       [1., 0., 0., 0., 0., 0., 0., 0., 0., 0., 0., 0., 0., 0., 0., 0.,\n",
       "        0.],\n",
       "       [1., 0., 0., 0., 0., 0., 0., 0., 0., 0., 0., 0., 0., 0., 0., 0.,\n",
       "        0.],\n",
       "       [1., 0., 0., 0., 0., 0., 0., 0., 0., 0., 0., 0., 0., 0., 0., 0.,\n",
       "        0.],\n",
       "       [1., 0., 0., 0., 0., 0., 0., 0., 0., 0., 0., 0., 0., 0., 0., 0.,\n",
       "        0.],\n",
       "       [1., 0., 0., 0., 0., 0., 0., 0., 0., 0., 0., 0., 0., 0., 0., 0.,\n",
       "        0.],\n",
       "       [1., 0., 0., 0., 0., 0., 0., 0., 0., 0., 0., 0., 0., 0., 0., 0.,\n",
       "        0.],\n",
       "       [1., 0., 0., 0., 0., 0., 0., 0., 0., 0., 0., 0., 0., 0., 0., 0.,\n",
       "        0.],\n",
       "       [1., 0., 0., 0., 0., 0., 0., 0., 0., 0., 0., 0., 0., 0., 0., 0.,\n",
       "        0.]])"
      ]
     },
     "execution_count": 46,
     "metadata": {},
     "output_type": "execute_result"
    }
   ],
   "source": [
    "from sklearn.preprocessing import OneHotEncoder \n",
    "ohe = OneHotEncoder(categories='auto') #import OHN\n",
    "y = ohe.fit_transform(y).toarray() # premenenie hodnôt y z int na bool array\n",
    "y[:10]"
   ]
  },
  {
   "cell_type": "code",
   "execution_count": 47,
   "metadata": {},
   "outputs": [],
   "source": [
    "from sklearn.model_selection import train_test_split \n",
    "X_train,X_test,y_train,y_test = train_test_split(X,y,test_size = 0.1) \n",
    "# rozdelenie dát na train,test pre X y. test_size urcite podiel training(90%) a test (10%)"
   ]
  },
  {
   "cell_type": "code",
   "execution_count": 48,
   "metadata": {},
   "outputs": [
    {
     "name": "stdout",
     "output_type": "stream",
     "text": [
      "Model: \"sequential_3\"\n",
      "_________________________________________________________________\n",
      "Layer (type)                 Output Shape              Param #   \n",
      "=================================================================\n",
      "dense_18 (Dense)             (None, 30)                180       \n",
      "_________________________________________________________________\n",
      "dense_19 (Dense)             (None, 30)                930       \n",
      "_________________________________________________________________\n",
      "dense_20 (Dense)             (None, 10)                310       \n",
      "_________________________________________________________________\n",
      "dense_21 (Dense)             (None, 17)                187       \n",
      "=================================================================\n",
      "Total params: 1,607\n",
      "Trainable params: 1,607\n",
      "Non-trainable params: 0\n",
      "_________________________________________________________________\n"
     ]
    }
   ],
   "source": [
    "import keras # import neurónovej sieti Keras\n",
    "from keras.models import Sequential #import sekvenčného modelu \n",
    "from keras.layers import Dense #Dense (spája všetky input hodnoty s output hudnotamy na každej vrstve)\n",
    "\n",
    "# Neurónová sieť\n",
    "model = Sequential() # sekvenčný model NS\n",
    "#add 3 skryté vrstvy o 30 a 10 dimenziíy\n",
    "model.add(Dense(30, input_dim=5, activation=\"relu\")) \n",
    "model.add(Dense(30, activation=\"relu\")) \n",
    "model.add(Dense(10, activation=\"relu\"))\n",
    "model.add(Dense(17, activation=\"softmax\")) # output je nastaveny na 17\n",
    "model.summary()"
   ]
  },
  {
   "cell_type": "code",
   "execution_count": 49,
   "metadata": {},
   "outputs": [],
   "source": [
    "model.compile(loss='categorical_crossentropy', optimizer='adam', metrics=['accuracy'])\n",
    "#Adam je optimalizačný algoritmus, ktorý sa dá použiť na aktualizáciu iteratívnych váh v sieti na základe trénovacích dát.\n",
    "#Metrics určuje na základe čoho sa bude presnosť siete merať "
   ]
  },
  {
   "cell_type": "code",
   "execution_count": 55,
   "metadata": {},
   "outputs": [
    {
     "name": "stdout",
     "output_type": "stream",
     "text": [
      "Epoch 1/10\n",
      "16/16 [==============================] - 0s 6ms/step - loss: 2.7159 - accuracy: 0.1252 - val_loss: 2.6980 - val_accuracy: 0.0983\n",
      "Epoch 2/10\n",
      "16/16 [==============================] - 0s 3ms/step - loss: 2.6878 - accuracy: 0.1297 - val_loss: 2.6697 - val_accuracy: 0.1098\n",
      "Epoch 3/10\n",
      "16/16 [==============================] - 0s 3ms/step - loss: 2.6595 - accuracy: 0.1304 - val_loss: 2.6451 - val_accuracy: 0.1156\n",
      "Epoch 4/10\n",
      "16/16 [==============================] - 0s 3ms/step - loss: 2.6332 - accuracy: 0.1355 - val_loss: 2.6190 - val_accuracy: 0.1214\n",
      "Epoch 5/10\n",
      "16/16 [==============================] - 0s 3ms/step - loss: 2.6084 - accuracy: 0.1426 - val_loss: 2.5971 - val_accuracy: 0.1329\n",
      "Epoch 6/10\n",
      "16/16 [==============================] - 0s 3ms/step - loss: 2.5864 - accuracy: 0.1541 - val_loss: 2.5771 - val_accuracy: 0.1329\n",
      "Epoch 7/10\n",
      "16/16 [==============================] - 0s 3ms/step - loss: 2.5655 - accuracy: 0.1529 - val_loss: 2.5608 - val_accuracy: 0.1561\n",
      "Epoch 8/10\n",
      "16/16 [==============================] - 0s 3ms/step - loss: 2.5475 - accuracy: 0.1522 - val_loss: 2.5415 - val_accuracy: 0.1618\n",
      "Epoch 9/10\n",
      "16/16 [==============================] - 0s 3ms/step - loss: 2.5318 - accuracy: 0.1651 - val_loss: 2.5299 - val_accuracy: 0.1618\n",
      "Epoch 10/10\n",
      "16/16 [==============================] - 0s 3ms/step - loss: 2.5167 - accuracy: 0.1631 - val_loss: 2.5164 - val_accuracy: 0.1445\n"
     ]
    }
   ],
   "source": [
    "history = model.fit(X_train, y_train,validation_data = (X_test,y_test), epochs=10, batch_size=100)\n",
    "# na prepripravený model sa zavolá funkcia fit ktorá berie ako vstupné parametre dáta z datasetu, \n",
    "#epochs = počet iterácií a batch_size kt predstavuje aké množstvo údajov sa spracováva naraz. "
   ]
  },
  {
   "cell_type": "code",
   "execution_count": 56,
   "metadata": {},
   "outputs": [],
   "source": [
    "y_pred = model.predict(X_test)\n",
    "#vygeneruje predikcie na zaklade vstupnych dat\n",
    "pred = list()\n",
    "for i in range(len(y_pred)):\n",
    "    pred.append(np.argmax(y_pred[i])) #argmax vráti pozíciu najväčšej hodnoty (teda prekonvertuje na int z OHT)\n",
    "test = list()\n",
    "for i in range(len(y_test)):\n",
    "    test.append(np.argmax(y_test[i]))"
   ]
  },
  {
   "cell_type": "code",
   "execution_count": 57,
   "metadata": {},
   "outputs": [
    {
     "name": "stdout",
     "output_type": "stream",
     "text": [
      "Presnosť(%): 14.450867052023122\n"
     ]
    }
   ],
   "source": [
    "from sklearn.metrics import accuracy_score\n",
    "a = accuracy_score(pred,test) # porovnáva hodnoty a vyhodnotí na kolko % sa výsledky zhodujú \n",
    "print(\"Presnosť(%):\", a*100)"
   ]
  },
  {
   "cell_type": "code",
   "execution_count": 58,
   "metadata": {},
   "outputs": [
    {
     "data": {
      "image/png": "[encoded data removed]",
      "text/plain": [
       "<Figure size 432x288 with 1 Axes>"
      ]
     },
     "metadata": {
      "needs_background": "light"
     },
     "output_type": "display_data"
    }
   ],
   "source": [
    "import matplotlib.pyplot as plt\n",
    "plt.plot(history.history[\"accuracy\"])\n",
    "plt.plot(history.history[\"val_accuracy\"])\n",
    "plt.title(\"Presnosť modelu\")\n",
    "plt.ylabel(\"Presnosť\")\n",
    "plt.xlabel(\"Epoch\")\n",
    "plt.legend([\"Train\", \"Test\"], loc=\"upper left\")\n",
    "plt.show()"
   ]
  },
  {
   "cell_type": "code",
   "execution_count": 59,
   "metadata": {},
   "outputs": [
    {
     "data": {
      "image/png": "[encoded data removed]",
      "text/plain": [
       "<Figure size 432x288 with 1 Axes>"
      ]
     },
     "metadata": {
      "needs_background": "light"
     },
     "output_type": "display_data"
    }
   ],
   "source": [
    "plt.plot(history.history['loss'])\n",
    "plt.plot(history.history['val_loss'])\n",
    "plt.title('Chybovosť modelu')\n",
    "plt.ylabel('chybovosť')\n",
    "plt.xlabel('Epoch')\n",
    "plt.legend(['Train', 'Test'], loc='upper left')\n",
    "plt.show()"
   ]
  },
  {
   "cell_type": "markdown",
   "metadata": {},
   "source": [
    "# Keras - GAME ACTION & GAME ADVENTURE"
   ]
  },
  {
   "cell_type": "code",
   "execution_count": 29,
   "metadata": {},
   "outputs": [
    {
     "data": {
      "text/plain": [
       "array([[11.51700113,  9.27695125, 10.02714234, 10.51316498, 10.74980291],\n",
       "       [ 4.76184282,  4.10250268,  4.60988839,  4.97123716,  5.34346294],\n",
       "       [ 3.07241393,  3.41915248,  3.53393844,  3.95921465,  4.71443854],\n",
       "       [ 2.04620993,  2.71489575,  2.31464866,  1.90232076,  2.0634201 ],\n",
       "       [ 1.50300474,  4.13507468,  3.41350595,  1.85228055,  0.86604189],\n",
       "       [ 1.86202655,  1.59576047,  1.21349689,  0.90119172,  0.68656307],\n",
       "       [ 1.58384927,  2.13829951,  1.36412199,  1.16926385,  0.790276  ],\n",
       "       [ 0.83565034,  1.73674636,  2.42416825,  3.28907643,  2.78100012],\n",
       "       [ 0.90219178,  1.67049719,  1.841984  ,  1.66472149,  0.90268651],\n",
       "       [ 0.65513062,  0.5737755 ,  0.82180401,  0.99396972,  0.91774622]])"
      ]
     },
     "execution_count": 29,
     "metadata": {},
     "output_type": "execute_result"
    }
   ],
   "source": [
    "X = df.iloc[:200,9:14].values #5 stĺpcov, len 200 riadkov - 5,4,3,2,1 star rating\n",
    "y = df.iloc[:200,8:9].values #200 riadkov stĺpca - category\n",
    "from sklearn.preprocessing import StandardScaler\n",
    "sc = StandardScaler() \n",
    "X = sc.fit_transform(X) #úprava údajov na štandardizovanú hodnotu.\n",
    "X[:10]"
   ]
  },
  {
   "cell_type": "code",
   "execution_count": 30,
   "metadata": {},
   "outputs": [
    {
     "data": {
      "text/plain": [
       "array([[1., 0.],\n",
       "       [1., 0.],\n",
       "       [1., 0.],\n",
       "       [1., 0.],\n",
       "       [1., 0.],\n",
       "       [1., 0.],\n",
       "       [1., 0.],\n",
       "       [1., 0.],\n",
       "       [1., 0.],\n",
       "       [1., 0.]])"
      ]
     },
     "execution_count": 30,
     "metadata": {},
     "output_type": "execute_result"
    }
   ],
   "source": [
    "from sklearn.preprocessing import OneHotEncoder \n",
    "ohe = OneHotEncoder(categories='auto') #import OHN\n",
    "y = ohe.fit_transform(y).toarray() # premenenie hodnôt y z int na bool array\n",
    "y[:10]"
   ]
  },
  {
   "cell_type": "code",
   "execution_count": 31,
   "metadata": {},
   "outputs": [],
   "source": [
    "from sklearn.model_selection import train_test_split \n",
    "X_train,X_test,y_train,y_test = train_test_split(X,y,test_size = 0.1) \n",
    "# rozdelenie dát na train,test pre X y. test_size urcite podiel training(90%) a test (10%)"
   ]
  },
  {
   "cell_type": "code",
   "execution_count": 33,
   "metadata": {},
   "outputs": [
    {
     "name": "stdout",
     "output_type": "stream",
     "text": [
      "Model: \"sequential_2\"\n",
      "_________________________________________________________________\n",
      "Layer (type)                 Output Shape              Param #   \n",
      "=================================================================\n",
      "dense_12 (Dense)             (None, 30)                180       \n",
      "_________________________________________________________________\n",
      "dense_13 (Dense)             (None, 30)                930       \n",
      "_________________________________________________________________\n",
      "dense_14 (Dense)             (None, 10)                310       \n",
      "_________________________________________________________________\n",
      "dense_15 (Dense)             (None, 10)                110       \n",
      "_________________________________________________________________\n",
      "dense_16 (Dense)             (None, 10)                110       \n",
      "_________________________________________________________________\n",
      "dense_17 (Dense)             (None, 2)                 22        \n",
      "=================================================================\n",
      "Total params: 1,662\n",
      "Trainable params: 1,662\n",
      "Non-trainable params: 0\n",
      "_________________________________________________________________\n"
     ]
    }
   ],
   "source": [
    "import keras # import neurónovej sieti Keras\n",
    "from keras.models import Sequential #import sekvenčného modelu \n",
    "from keras.layers import Dense #Dense (spája všetky input hodnoty s output hudnotamy na každej vrstve)\n",
    "\n",
    "# Neurónová sieť\n",
    "model = Sequential() # sekvenčný model NS\n",
    "#add 3 skryté vrstvy o 30 a 10 dimenziíy\n",
    "model.add(Dense(30, input_dim=5, activation=\"relu\")) \n",
    "model.add(Dense(30, activation=\"relu\"))\n",
    "model.add(Dense(10, activation=\"relu\"))\n",
    "model.add(Dense(2, activation=\"softmax\")) # output je nastaveny na 2\n",
    "model.summary()"
   ]
  },
  {
   "cell_type": "code",
   "execution_count": 34,
   "metadata": {},
   "outputs": [],
   "source": [
    "model.compile(loss='categorical_crossentropy', optimizer='adam', metrics=['accuracy'])\n",
    "#Adam je optimalizačný algoritmus, ktorý sa dá použiť na aktualizáciu iteratívnych váh v sieti na základe trénovacích dát.\n",
    "#Metrics určuje na základe čoho sa bude presnosť siete merať "
   ]
  },
  {
   "cell_type": "code",
   "execution_count": 40,
   "metadata": {},
   "outputs": [
    {
     "name": "stdout",
     "output_type": "stream",
     "text": [
      "Epoch 1/10\n",
      "2/2 [==============================] - 0s 89ms/step - loss: 0.6552 - accuracy: 0.8056 - val_loss: 0.6695 - val_accuracy: 0.8000\n",
      "Epoch 2/10\n",
      "2/2 [==============================] - 0s 40ms/step - loss: 0.6527 - accuracy: 0.8167 - val_loss: 0.6673 - val_accuracy: 0.8000\n",
      "Epoch 3/10\n",
      "2/2 [==============================] - 0s 39ms/step - loss: 0.6508 - accuracy: 0.8111 - val_loss: 0.6652 - val_accuracy: 0.8000\n",
      "Epoch 4/10\n",
      "2/2 [==============================] - 0s 40ms/step - loss: 0.6485 - accuracy: 0.8167 - val_loss: 0.6634 - val_accuracy: 0.7500\n",
      "Epoch 5/10\n",
      "2/2 [==============================] - 0s 38ms/step - loss: 0.6463 - accuracy: 0.8278 - val_loss: 0.6608 - val_accuracy: 0.8000\n",
      "Epoch 6/10\n",
      "2/2 [==============================] - 0s 37ms/step - loss: 0.6441 - accuracy: 0.8278 - val_loss: 0.6575 - val_accuracy: 0.9000\n",
      "Epoch 7/10\n",
      "2/2 [==============================] - 0s 39ms/step - loss: 0.6418 - accuracy: 0.8333 - val_loss: 0.6548 - val_accuracy: 1.0000\n",
      "Epoch 8/10\n",
      "2/2 [==============================] - 0s 38ms/step - loss: 0.6392 - accuracy: 0.8389 - val_loss: 0.6525 - val_accuracy: 0.9500\n",
      "Epoch 9/10\n",
      "2/2 [==============================] - 0s 39ms/step - loss: 0.6369 - accuracy: 0.8389 - val_loss: 0.6501 - val_accuracy: 0.9500\n",
      "Epoch 10/10\n",
      "2/2 [==============================] - 0s 38ms/step - loss: 0.6345 - accuracy: 0.8389 - val_loss: 0.6470 - val_accuracy: 0.9500\n"
     ]
    }
   ],
   "source": [
    "history = model.fit(X_train, y_train,validation_data = (X_test,y_test), epochs=10, batch_size=100)\n",
    "# na preprivpravený model sa zavolá funkcia fit ktorá berie ako vstupné parametre dáta z datasetu,\n",
    "#epochs = počet iterácií a batch_size kt predstavuje aké množstvo údajov sa spracováva naraz. "
   ]
  },
  {
   "cell_type": "code",
   "execution_count": 41,
   "metadata": {},
   "outputs": [],
   "source": [
    "y_pred = model.predict(X_test)\n",
    "#vygeneruje predikcie na zaklade vstupnych dat\n",
    "pred = list()\n",
    "for i in range(len(y_pred)):\n",
    "    pred.append(np.argmax(y_pred[i])) #argmax vráti pozíciu najväčšej hodnoty (teda prekonvertuje na int z OHT)\n",
    "test = list()\n",
    "for i in range(len(y_test)):\n",
    "    test.append(np.argmax(y_test[i]))"
   ]
  },
  {
   "cell_type": "code",
   "execution_count": 42,
   "metadata": {},
   "outputs": [
    {
     "name": "stdout",
     "output_type": "stream",
     "text": [
      "Presnosť(%): 95.0\n"
     ]
    }
   ],
   "source": [
    "from sklearn.metrics import accuracy_score\n",
    "a = accuracy_score(pred,test) # porovnáva hodnoty a vyhodnotí na kolko % sa výsledky zhodujú \n",
    "print(\"Presnosť(%):\", a*100)"
   ]
  },
  {
   "cell_type": "code",
   "execution_count": 43,
   "metadata": {},
   "outputs": [
    {
     "data": {
      "image/png": "[encoded data removed]",
      "text/plain": [
       "<Figure size 432x288 with 1 Axes>"
      ]
     },
     "metadata": {
      "needs_background": "light"
     },
     "output_type": "display_data"
    }
   ],
   "source": [
    "import matplotlib.pyplot as plt\n",
    "plt.plot(history.history[\"accuracy\"])\n",
    "plt.plot(history.history[\"val_accuracy\"])\n",
    "plt.title(\"Presnosť modelu\")\n",
    "plt.ylabel(\"Presnosť\")\n",
    "plt.xlabel(\"Epoch\")\n",
    "plt.legend([\"Train\", \"Test\"], loc=\"upper left\")\n",
    "plt.show()"
   ]
  },
  {
   "cell_type": "code",
   "execution_count": 44,
   "metadata": {},
   "outputs": [
    {
     "data": {
      "image/png": "[encoded data removed]",
      "text/plain": [
       "<Figure size 432x288 with 1 Axes>"
      ]
     },
     "metadata": {
      "needs_background": "light"
     },
     "output_type": "display_data"
    }
   ],
   "source": [
    "plt.plot(history.history['loss'])\n",
    "plt.plot(history.history['val_loss'])\n",
    "plt.title('Chybovosť modelu')\n",
    "plt.ylabel('chybovosť')\n",
    "plt.xlabel('Epoch')\n",
    "plt.legend(['Train', 'Test'], loc='upper left')\n",
    "plt.show()"
   ]
  }
 ],
 "metadata": {
  "kernelspec": {
   "display_name": "Python 3",
   "language": "python",
   "name": "python3"
  },
  "language_info": {
   "codemirror_mode": {
    "name": "ipython",
    "version": 3
   },
   "file_extension": ".py",
   "mimetype": "text/x-python",
   "name": "python",
   "nbconvert_exporter": "python",
   "pygments_lexer": "ipython3",
   "version": "3.8.5"
  }
 },
 "nbformat": 4,
 "nbformat_minor": 4
}
